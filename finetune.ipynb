{
 "cells": [
  {
   "cell_type": "code",
   "execution_count": 4,
   "id": "b83b1606",
   "metadata": {},
   "outputs": [],
   "source": [
    "import pandas as pd\n",
    "from datasets import Dataset\n"
   ]
  },
  {
   "cell_type": "code",
   "execution_count": 5,
   "id": "189182d9",
   "metadata": {},
   "outputs": [],
   "source": [
    "df = pd.read_csv('aug.csv')\n"
   ]
  },
  {
   "cell_type": "code",
   "execution_count": 6,
   "id": "b1b5238b",
   "metadata": {},
   "outputs": [],
   "source": [
    "\n",
    "\n",
    "# Convert pandas DataFrame to Hugging Face Dataset object\n",
    "dataset = Dataset.from_pandas(df)\n"
   ]
  },
  {
   "cell_type": "code",
   "execution_count": 7,
   "id": "92fe06ee",
   "metadata": {},
   "outputs": [
    {
     "data": {
      "text/plain": [
       "{'Unnamed: 0': 0, 'text': 'Hardwork and devotion', 'label': 1}"
      ]
     },
     "execution_count": 7,
     "metadata": {},
     "output_type": "execute_result"
    }
   ],
   "source": [
    "dataset[0]"
   ]
  },
  {
   "cell_type": "code",
   "execution_count": 8,
   "id": "0d249ae0",
   "metadata": {},
   "outputs": [],
   "source": [
    "# Split the dataset: 80% for training, 20% for testing\n",
    "train_test_split = dataset.train_test_split(test_size=0.2)\n",
    "\n",
    "# Rename for clarity\n",
    "train_dataset = train_test_split['train']\n",
    "test_dataset = train_test_split['test']"
   ]
  },
  {
   "cell_type": "markdown",
   "id": "05db7c97",
   "metadata": {},
   "source": [
    "Tokenizer\n"
   ]
  },
  {
   "cell_type": "code",
   "execution_count": 9,
   "id": "d9ddc191",
   "metadata": {},
   "outputs": [
    {
     "name": "stderr",
     "output_type": "stream",
     "text": [
      "Map: 100%|██████████| 1171/1171 [00:00<00:00, 4643.96 examples/s]\n",
      "Map: 100%|██████████| 293/293 [00:00<00:00, 4805.05 examples/s]\n"
     ]
    }
   ],
   "source": [
    "from transformers import AutoTokenizer\n",
    "\n",
    "model = \"distilbert-base-uncased\"\n",
    "tokenizer = AutoTokenizer.from_pretrained(model)\n",
    "\n",
    "# Create a function to tokenize the text\n",
    "def tokenize_function(df):\n",
    "    return tokenizer(df[\"text\"], padding=\"max_length\", truncation=True)\n",
    "\n",
    "# Apply the function to your datasets\n",
    "tokenized_train_dataset = train_dataset.map(tokenize_function, batched=True, remove_columns=['text'])\n",
    "tokenized_test_dataset = test_dataset.map(tokenize_function, batched=True, remove_columns=['text'])"
   ]
  },
  {
   "cell_type": "markdown",
   "id": "8097dc97",
   "metadata": {},
   "source": [
    "Fine Tuning begins"
   ]
  },
  {
   "cell_type": "code",
   "execution_count": 10,
   "id": "48c1c1a5",
   "metadata": {},
   "outputs": [
    {
     "name": "stderr",
     "output_type": "stream",
     "text": [
      "Some weights of DistilBertForSequenceClassification were not initialized from the model checkpoint at distilbert-base-uncased and are newly initialized: ['classifier.bias', 'classifier.weight', 'pre_classifier.bias', 'pre_classifier.weight']\n",
      "You should probably TRAIN this model on a down-stream task to be able to use it for predictions and inference.\n"
     ]
    }
   ],
   "source": [
    "from transformers import AutoModelForSequenceClassification\n",
    "\n",
    "id2label= {\n",
    "    0 : 'extrinsic',\n",
    "    1 : 'intrinsic'\n",
    "    }\n",
    "label2id={\n",
    "    'extrinsic' : 0,\n",
    "    'intrinsic' : 1\n",
    "}\n",
    "\n",
    "model1 = AutoModelForSequenceClassification.from_pretrained(\n",
    "    model,\n",
    "    num_labels = 2,\n",
    "    id2label = id2label,\n",
    "    label2id = label2id\n",
    ")"
   ]
  },
  {
   "cell_type": "markdown",
   "id": "47b8e489",
   "metadata": {},
   "source": [
    "Defining parameters"
   ]
  },
  {
   "cell_type": "code",
   "execution_count": 11,
   "id": "2295bf2b",
   "metadata": {},
   "outputs": [
    {
     "name": "stdout",
     "output_type": "stream",
     "text": [
      "WARNING:tensorflow:From c:\\Users\\HARSH\\anaconda3\\envs\\nlp_env\\lib\\site-packages\\tf_keras\\src\\losses.py:2976: The name tf.losses.sparse_softmax_cross_entropy is deprecated. Please use tf.compat.v1.losses.sparse_softmax_cross_entropy instead.\n",
      "\n"
     ]
    },
    {
     "name": "stderr",
     "output_type": "stream",
     "text": [
      "c:\\Users\\HARSH\\anaconda3\\envs\\nlp_env\\lib\\site-packages\\transformers\\training_args.py:1594: FutureWarning: `evaluation_strategy` is deprecated and will be removed in version 4.46 of 🤗 Transformers. Use `eval_strategy` instead\n",
      "  warnings.warn(\n",
      "C:\\Users\\HARSH\\AppData\\Local\\Temp\\ipykernel_19160\\3257218617.py:31: FutureWarning: `tokenizer` is deprecated and will be removed in version 5.0.0 for `Trainer.__init__`. Use `processing_class` instead.\n",
      "  trainer = Trainer(\n"
     ]
    }
   ],
   "source": [
    "from transformers import TrainingArguments, Trainer\n",
    "from sklearn.metrics import accuracy_score, f1_score\n",
    "import numpy as np\n",
    "\n",
    "def compute_metrics(eval_pred):\n",
    "    logits, labels = eval_pred\n",
    "    predictions = np.argmax(logits, axis=-1)\n",
    "    \n",
    "    acc = accuracy_score(labels, predictions)\n",
    "    f1 = f1_score(labels, predictions, average = 'weighted')\n",
    "    \n",
    "    return{'accuracy': acc, \"f1\": f1}\n",
    "\n",
    "#Training arguments\n",
    "training_args = TrainingArguments(\n",
    "    output_dir=\"./motivation_model\",      # Where to save the model\n",
    "    evaluation_strategy=\"epoch\",          # Evaluate at the end of each epoch\n",
    "    save_strategy=\"epoch\",                # Save at the end of each epoch\n",
    "    num_train_epochs=3,                   # 3 epochs is usually a good start\n",
    "    per_device_train_batch_size=16,\n",
    "    per_device_eval_batch_size=16,\n",
    "    learning_rate=2e-5,\n",
    "    weight_decay=0.01,\n",
    "    load_best_model_at_end=True,          # Load the best model (by F1/accuracy)\n",
    "    metric_for_best_model=\"f1\",\n",
    ")\n",
    "    \n",
    "tokenized_train_dataset = tokenized_train_dataset.rename_column(\"label\", \"labels\")\n",
    "tokenized_test_dataset = tokenized_test_dataset.rename_column(\"label\", \"labels\")    \n",
    "#trainer\n",
    "trainer = Trainer(\n",
    "    model = model1,\n",
    "    args = training_args,\n",
    "    train_dataset =tokenized_train_dataset,\n",
    "    eval_dataset=tokenized_test_dataset,\n",
    "    tokenizer = tokenizer,\n",
    "    compute_metrics=compute_metrics,\n",
    ")    \n",
    "    \n",
    "    "
   ]
  },
  {
   "cell_type": "code",
   "execution_count": 12,
   "id": "2c5405a6",
   "metadata": {},
   "outputs": [
    {
     "data": {
      "text/html": [
       "\n",
       "    <div>\n",
       "      \n",
       "      <progress value='222' max='222' style='width:300px; height:20px; vertical-align: middle;'></progress>\n",
       "      [222/222 02:56, Epoch 3/3]\n",
       "    </div>\n",
       "    <table border=\"1\" class=\"dataframe\">\n",
       "  <thead>\n",
       " <tr style=\"text-align: left;\">\n",
       "      <th>Epoch</th>\n",
       "      <th>Training Loss</th>\n",
       "      <th>Validation Loss</th>\n",
       "      <th>Accuracy</th>\n",
       "      <th>F1</th>\n",
       "    </tr>\n",
       "  </thead>\n",
       "  <tbody>\n",
       "    <tr>\n",
       "      <td>1</td>\n",
       "      <td>No log</td>\n",
       "      <td>0.105706</td>\n",
       "      <td>0.969283</td>\n",
       "      <td>0.969339</td>\n",
       "    </tr>\n",
       "    <tr>\n",
       "      <td>2</td>\n",
       "      <td>No log</td>\n",
       "      <td>0.026333</td>\n",
       "      <td>0.993174</td>\n",
       "      <td>0.993169</td>\n",
       "    </tr>\n",
       "    <tr>\n",
       "      <td>3</td>\n",
       "      <td>No log</td>\n",
       "      <td>0.018986</td>\n",
       "      <td>0.996587</td>\n",
       "      <td>0.996586</td>\n",
       "    </tr>\n",
       "  </tbody>\n",
       "</table><p>"
      ],
      "text/plain": [
       "<IPython.core.display.HTML object>"
      ]
     },
     "metadata": {},
     "output_type": "display_data"
    },
    {
     "data": {
      "text/plain": [
       "TrainOutput(global_step=222, training_loss=0.1122857428885795, metrics={'train_runtime': 177.9615, 'train_samples_per_second': 19.74, 'train_steps_per_second': 1.247, 'total_flos': 465357971478528.0, 'train_loss': 0.1122857428885795, 'epoch': 3.0})"
      ]
     },
     "execution_count": 12,
     "metadata": {},
     "output_type": "execute_result"
    }
   ],
   "source": [
    "trainer.train()"
   ]
  },
  {
   "cell_type": "code",
   "execution_count": 13,
   "id": "e39e9fe4",
   "metadata": {},
   "outputs": [
    {
     "data": {
      "text/html": [
       "\n",
       "    <div>\n",
       "      \n",
       "      <progress value='19' max='19' style='width:300px; height:20px; vertical-align: middle;'></progress>\n",
       "      [19/19 00:04]\n",
       "    </div>\n",
       "    "
      ],
      "text/plain": [
       "<IPython.core.display.HTML object>"
      ]
     },
     "metadata": {},
     "output_type": "display_data"
    },
    {
     "name": "stdout",
     "output_type": "stream",
     "text": [
      "{'eval_loss': 0.018985819071531296, 'eval_accuracy': 0.9965870307167235, 'eval_f1': 0.996585825416149, 'eval_runtime': 5.1839, 'eval_samples_per_second': 56.521, 'eval_steps_per_second': 3.665, 'epoch': 3.0}\n"
     ]
    }
   ],
   "source": [
    "results = trainer.evaluate()\n",
    "print(results)"
   ]
  },
  {
   "cell_type": "code",
   "execution_count": 14,
   "id": "3c4ca16a",
   "metadata": {},
   "outputs": [],
   "source": [
    "trainer.save_model(\"model\")"
   ]
  }
 ],
 "metadata": {
  "kernelspec": {
   "display_name": "nlp_env",
   "language": "python",
   "name": "python3"
  },
  "language_info": {
   "codemirror_mode": {
    "name": "ipython",
    "version": 3
   },
   "file_extension": ".py",
   "mimetype": "text/x-python",
   "name": "python",
   "nbconvert_exporter": "python",
   "pygments_lexer": "ipython3",
   "version": "3.10.19"
  }
 },
 "nbformat": 4,
 "nbformat_minor": 5
}
